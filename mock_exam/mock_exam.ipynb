{
 "cells": [
  {
   "cell_type": "markdown",
   "id": "3759646f",
   "metadata": {},
   "source": [
    "# Note:\n",
    "This file is what I used for *preparing* the exam; you would not get to see it while *taking* the exam. The exam is purely pen and paper, based on the provided PDF file."
   ]
  },
  {
   "cell_type": "code",
   "execution_count": 1,
   "id": "9e563ae0",
   "metadata": {},
   "outputs": [],
   "source": [
    "import pandas as pd\n",
    "import numpy as np\n",
    "import statsmodels.api as sm\n",
    "import statsmodels.formula.api as smf\n",
    "import statsmodels.tsa.api as tsa\n",
    "from statsmodels.tsa.arima.model import ARIMA\n",
    "import matplotlib.pyplot as plt\n",
    "from arch.univariate import arch_model"
   ]
  },
  {
   "cell_type": "markdown",
   "id": "9bd181b5",
   "metadata": {},
   "source": [
    "# Question 1"
   ]
  },
  {
   "cell_type": "code",
   "execution_count": 2,
   "id": "f5ed6395",
   "metadata": {},
   "outputs": [],
   "source": [
    "df = pd.read_excel(\"ar2.xlsx\", header=None, names=[\"y\"])"
   ]
  },
  {
   "cell_type": "code",
   "execution_count": 3,
   "id": "2f24b5bf",
   "metadata": {},
   "outputs": [
    {
     "data": {
      "image/png": "[encoded data removed]",
      "text/plain": [
       "<Figure size 921.6x345.6 with 2 Axes>"
      ]
     },
     "metadata": {
      "needs_background": "light"
     },
     "output_type": "display_data"
    }
   ],
   "source": [
    "fig, (ax1, ax2) = plt.subplots(1, 2, figsize=(12.8, 4.8))\n",
    "sm.graphics.tsa.plot_acf(df.y, ax=ax1, bartlett_confint=False, zero=False, auto_ylims=True)\n",
    "sm.graphics.tsa.plot_pacf(df.y, ax=ax2, zero=False, auto_ylims=True, method=\"ols-inefficient\");\n",
    "fig.savefig(\"correlogram_ar2.pdf\")"
   ]
  },
  {
   "cell_type": "code",
   "execution_count": 4,
   "id": "b08807d1",
   "metadata": {},
   "outputs": [
    {
     "data": {
      "text/plain": [
       "0.061980642139300234"
      ]
     },
     "execution_count": 4,
     "metadata": {},
     "output_type": "execute_result"
    }
   ],
   "source": [
    "1.96 / np.sqrt(1000)"
   ]
  },
  {
   "cell_type": "code",
   "execution_count": 5,
   "id": "bcdf66bd",
   "metadata": {},
   "outputs": [
    {
     "name": "stdout",
     "output_type": "stream",
     "text": [
      "                            OLS Regression Results                            \n",
      "==============================================================================\n",
      "Dep. Variable:                      y   R-squared:                       0.208\n",
      "Model:                            OLS   Adj. R-squared:                  0.207\n",
      "Method:                 Least Squares   F-statistic:                     130.9\n",
      "Date:                Tue, 17 Oct 2023   Prob (F-statistic):           3.47e-51\n",
      "Time:                        16:31:10   Log-Likelihood:                -2086.9\n",
      "No. Observations:                 998   AIC:                             4180.\n",
      "Df Residuals:                     995   BIC:                             4195.\n",
      "Df Model:                           2                                         \n",
      "Covariance Type:            nonrobust                                         \n",
      "==============================================================================\n",
      "                 coef    std err          t      P>|t|      [0.025      0.975]\n",
      "------------------------------------------------------------------------------\n",
      "x1            -0.1161      0.018     -6.520      0.000      -0.151      -0.081\n",
      "x2            -0.3594      0.030    -12.164      0.000      -0.417      -0.301\n",
      "const          0.0309      0.062      0.497      0.619      -0.091       0.153\n",
      "==============================================================================\n",
      "Omnibus:                        0.529   Durbin-Watson:                   2.023\n",
      "Prob(Omnibus):                  0.768   Jarque-Bera (JB):                0.404\n",
      "Skew:                           0.003   Prob(JB):                        0.817\n",
      "Kurtosis:                       3.098   Cond. No.                         3.76\n",
      "==============================================================================\n",
      "\n",
      "Notes:\n",
      "[1] Standard Errors assume that the covariance matrix of the errors is correctly specified.\n"
     ]
    }
   ],
   "source": [
    "ADF, p, crits, res = tsa.stattools.adfuller(df.y, regression='c', autolag='AIC', store=True)\n",
    "print(res.resols.summary())"
   ]
  },
  {
   "cell_type": "code",
   "execution_count": 6,
   "id": "a4f39abc",
   "metadata": {},
   "outputs": [
    {
     "name": "stdout",
     "output_type": "stream",
     "text": [
      "                               SARIMAX Results                                \n",
      "==============================================================================\n",
      "Dep. Variable:                      y   No. Observations:                 1000\n",
      "Model:                 ARIMA(2, 0, 0)   Log Likelihood               -2091.958\n",
      "Date:                Tue, 17 Oct 2023   AIC                           4191.917\n",
      "Time:                        16:31:11   BIC                           4211.548\n",
      "Sample:                             0   HQIC                          4199.378\n",
      "                               - 1000                                         \n",
      "Covariance Type:                  opg                                         \n",
      "==============================================================================\n",
      "                 coef    std err          z      P>|z|      [0.025      0.975]\n",
      "------------------------------------------------------------------------------\n",
      "const          0.2158      0.528      0.409      0.683      -0.818       1.250\n",
      "ar.L1          0.5236      0.032     16.396      0.000       0.461       0.586\n",
      "ar.L2          0.3595      0.032     11.326      0.000       0.297       0.422\n",
      "sigma2         3.8369      0.169     22.770      0.000       3.507       4.167\n",
      "===================================================================================\n",
      "Ljung-Box (L1) (Q):                   0.13   Jarque-Bera (JB):                 0.36\n",
      "Prob(Q):                              0.71   Prob(JB):                         0.83\n",
      "Heteroskedasticity (H):               0.86   Skew:                             0.00\n",
      "Prob(H) (two-sided):                  0.18   Kurtosis:                         3.09\n",
      "===================================================================================\n",
      "\n",
      "Warnings:\n",
      "[1] Covariance matrix calculated using the outer product of gradients (complex-step).\n"
     ]
    }
   ],
   "source": [
    "mod = ARIMA(df.y, order=(2, 0, 0)).fit()\n",
    "print(mod.summary())"
   ]
  },
  {
   "cell_type": "code",
   "execution_count": 7,
   "id": "5fc34b82",
   "metadata": {},
   "outputs": [
    {
     "data": {
      "text/plain": [
       "1000   -0.645154\n",
       "dtype: float64"
      ]
     },
     "execution_count": 7,
     "metadata": {},
     "output_type": "execute_result"
    }
   ],
   "source": [
    "mod.predict(1000) # same as 0.2158 * (1 - 0.5236 - 0.3595) + 0.5236 * (-0.75) + 0.3595 * (-0.77) up to rounding error"
   ]
  },
  {
   "cell_type": "markdown",
   "id": "5f8345c2",
   "metadata": {},
   "source": [
    "# Question 2"
   ]
  },
  {
   "cell_type": "code",
   "execution_count": 8,
   "id": "80ca3cdd",
   "metadata": {},
   "outputs": [
    {
     "data": {
      "image/png": "[encoded data removed]",
      "text/plain": [
       "<Figure size 432x288 with 1 Axes>"
      ]
     },
     "metadata": {
      "needs_background": "light"
     },
     "output_type": "display_data"
    }
   ],
   "source": [
    "df = pd.read_csv(\"TSLA.csv\", index_col=\"Date\")\n",
    "df.index = pd.DatetimeIndex(df.index, dayfirst=True).to_period('D')\n",
    "df[\"r\"] = np.log(df.TSLA).diff() * 100\n",
    "df.columns = [\"price\", \"TSLA\"]\n",
    "df.dropna(inplace=True)\n",
    "df.TSLA.plot()\n",
    "plt.legend()\n",
    "plt.savefig(\"tsla.pdf\")"
   ]
  },
  {
   "cell_type": "code",
   "execution_count": 9,
   "id": "a747e1a8",
   "metadata": {},
   "outputs": [
    {
     "name": "stdout",
     "output_type": "stream",
     "text": [
      "                     Constant Mean - GARCH Model Results                      \n",
      "==============================================================================\n",
      "Dep. Variable:                   TSLA   R-squared:                       0.000\n",
      "Mean Model:             Constant Mean   Adj. R-squared:                  0.000\n",
      "Vol Model:                      GARCH   Log-Likelihood:               -8267.70\n",
      "Distribution:                  Normal   AIC:                           16543.4\n",
      "Method:            Maximum Likelihood   BIC:                           16567.6\n",
      "                                        No. Observations:                 3138\n",
      "Date:                Tue, Oct 17 2023   Df Residuals:                     3137\n",
      "Time:                        16:31:11   Df Model:                            1\n",
      "                                 Mean Model                                \n",
      "===========================================================================\n",
      "                 coef    std err          t      P>|t|     95.0% Conf. Int.\n",
      "---------------------------------------------------------------------------\n",
      "mu             0.1118  5.774e-02      1.936  5.281e-02 [-1.359e-03,  0.225]\n",
      "                              Volatility Model                              \n",
      "============================================================================\n",
      "                 coef    std err          t      P>|t|      95.0% Conf. Int.\n",
      "----------------------------------------------------------------------------\n",
      "omega          0.1400      0.117      1.196      0.232  [-8.938e-02,  0.369]\n",
      "alpha[1]       0.0323  1.341e-02      2.409  1.599e-02 [6.024e-03,5.859e-02]\n",
      "beta[1]        0.9564  2.205e-02     43.369      0.000     [  0.913,  1.000]\n",
      "============================================================================\n",
      "\n",
      "Covariance estimator: robust\n"
     ]
    }
   ],
   "source": [
    "model = arch_model(df.TSLA, mean='Constant', vol='GARCH', p=1, q=1).fit(disp=None)\n",
    "print(model.summary())"
   ]
  },
  {
   "cell_type": "code",
   "execution_count": 10,
   "id": "216bb8ab",
   "metadata": {},
   "outputs": [
    {
     "name": "stdout",
     "output_type": "stream",
     "text": [
      "11.409842922458935 0.04383301199119564 2.2859233290209486 0.043757885360774816 0.003641826658939973\n"
     ]
    }
   ],
   "source": [
    "*rest, res = sm.stats.diagnostic.het_arch(model.std_resid, nlags=5, store=True)\n",
    "print(*rest, res.resols.rsquared)"
   ]
  },
  {
   "cell_type": "code",
   "execution_count": 11,
   "id": "5bee4b54",
   "metadata": {},
   "outputs": [
    {
     "data": {
      "text/plain": [
       "Date\n",
       "2022-12-14   -2.724078\n",
       "Freq: D, Name: resid, dtype: float64"
      ]
     },
     "execution_count": 11,
     "metadata": {},
     "output_type": "execute_result"
    }
   ],
   "source": [
    "model.resid.tail(1)"
   ]
  },
  {
   "cell_type": "code",
   "execution_count": 12,
   "id": "dc7fdc2e",
   "metadata": {},
   "outputs": [
    {
     "data": {
      "text/plain": [
       "Date\n",
       "2022-12-14    15.19764\n",
       "Freq: D, Name: cond_vol, dtype: float64"
      ]
     },
     "execution_count": 12,
     "metadata": {},
     "output_type": "execute_result"
    }
   ],
   "source": [
    "(model.conditional_volatility ** 2).tail(1)"
   ]
  },
  {
   "cell_type": "code",
   "execution_count": 13,
   "id": "51e29833",
   "metadata": {},
   "outputs": [
    {
     "data": {
      "text/html": [
       "<div>\n",
       "<style scoped>\n",
       "    .dataframe tbody tr th:only-of-type {\n",
       "        vertical-align: middle;\n",
       "    }\n",
       "\n",
       "    .dataframe tbody tr th {\n",
       "        vertical-align: top;\n",
       "    }\n",
       "\n",
       "    .dataframe thead th {\n",
       "        text-align: right;\n",
       "    }\n",
       "</style>\n",
       "<table border=\"1\" class=\"dataframe\">\n",
       "  <thead>\n",
       "    <tr style=\"text-align: right;\">\n",
       "      <th></th>\n",
       "      <th>h.1</th>\n",
       "    </tr>\n",
       "    <tr>\n",
       "      <th>Date</th>\n",
       "      <th></th>\n",
       "    </tr>\n",
       "  </thead>\n",
       "  <tbody>\n",
       "    <tr>\n",
       "      <th>2022-12-14</th>\n",
       "      <td>14.914865</td>\n",
       "    </tr>\n",
       "  </tbody>\n",
       "</table>\n",
       "</div>"
      ],
      "text/plain": [
       "                  h.1\n",
       "Date                 \n",
       "2022-12-14  14.914865"
      ]
     },
     "execution_count": 13,
     "metadata": {},
     "output_type": "execute_result"
    }
   ],
   "source": [
    "model.forecast(reindex=False).variance"
   ]
  },
  {
   "cell_type": "markdown",
   "id": "de2ca8e9",
   "metadata": {},
   "source": [
    "# Question 3"
   ]
  },
  {
   "cell_type": "code",
   "execution_count": 14,
   "id": "d9d32499",
   "metadata": {},
   "outputs": [],
   "source": [
    "fore = model.forecast(reindex=False)\n",
    "mu = fore.mean\n",
    "sigma = np.sqrt(fore.variance)"
   ]
  },
  {
   "cell_type": "code",
   "execution_count": 15,
   "id": "8fc555f6",
   "metadata": {},
   "outputs": [
    {
     "data": {
      "text/html": [
       "<div>\n",
       "<style scoped>\n",
       "    .dataframe tbody tr th:only-of-type {\n",
       "        vertical-align: middle;\n",
       "    }\n",
       "\n",
       "    .dataframe tbody tr th {\n",
       "        vertical-align: top;\n",
       "    }\n",
       "\n",
       "    .dataframe thead th {\n",
       "        text-align: right;\n",
       "    }\n",
       "</style>\n",
       "<table border=\"1\" class=\"dataframe\">\n",
       "  <thead>\n",
       "    <tr style=\"text-align: right;\">\n",
       "      <th></th>\n",
       "      <th>h.1</th>\n",
       "    </tr>\n",
       "    <tr>\n",
       "      <th>Date</th>\n",
       "      <th></th>\n",
       "    </tr>\n",
       "  </thead>\n",
       "  <tbody>\n",
       "    <tr>\n",
       "      <th>2022-12-14</th>\n",
       "      <td>8.872485</td>\n",
       "    </tr>\n",
       "  </tbody>\n",
       "</table>\n",
       "</div>"
      ],
      "text/plain": [
       "                 h.1\n",
       "Date                \n",
       "2022-12-14  8.872485"
      ]
     },
     "execution_count": 15,
     "metadata": {},
     "output_type": "execute_result"
    }
   ],
   "source": [
    "-mu - sigma * model.model.distribution.ppf(0.01)"
   ]
  },
  {
   "cell_type": "code",
   "execution_count": 16,
   "id": "b72fcf79",
   "metadata": {},
   "outputs": [],
   "source": [
    "df[\"VaRs\"] = (-fore.mean[\"h.1\"].values - model.conditional_volatility *  model.model.distribution.ppf(0.01)).to_frame()"
   ]
  },
  {
   "cell_type": "code",
   "execution_count": 17,
   "id": "d4679be4",
   "metadata": {},
   "outputs": [],
   "source": [
    "df[\"I\"] = (-df.TSLA > df.VaRs).astype(int)\n",
    "df[\"b0\"] = 1"
   ]
  },
  {
   "cell_type": "code",
   "execution_count": 18,
   "id": "19cbb43e",
   "metadata": {},
   "outputs": [
    {
     "name": "stdout",
     "output_type": "stream",
     "text": [
      "                             OLS Regression Results                             \n",
      "================================================================================\n",
      "Dep. Variable:     np.subtract(I, 0.01)   R-squared:                       0.000\n",
      "Model:                              OLS   Adj. R-squared:                  0.000\n",
      "Method:                   Least Squares   F-statistic:                     1.409\n",
      "Date:                  Tue, 17 Oct 2023   Prob (F-statistic):              0.235\n",
      "Time:                          16:31:11   Log-Likelihood:                 1976.8\n",
      "No. Observations:                  3137   AIC:                            -3950.\n",
      "Df Residuals:                      3135   BIC:                            -3938.\n",
      "Df Model:                             1                                         \n",
      "Covariance Type:              nonrobust                                         \n",
      "==============================================================================\n",
      "                 coef    std err          t      P>|t|      [0.025      0.975]\n",
      "------------------------------------------------------------------------------\n",
      "b0             0.0065      0.002      2.817      0.005       0.002       0.011\n",
      "I.shift(1)     0.0212      0.018      1.187      0.235      -0.014       0.056\n",
      "==============================================================================\n",
      "Omnibus:                     4069.691   Durbin-Watson:                   2.001\n",
      "Prob(Omnibus):                  0.000   Jarque-Bera (JB):           412759.104\n",
      "Skew:                           7.492   Prob(JB):                         0.00\n",
      "Kurtosis:                      57.160   Cond. No.                         7.76\n",
      "==============================================================================\n",
      "\n",
      "Notes:\n",
      "[1] Standard Errors assume that the covariance matrix of the errors is correctly specified.\n"
     ]
    }
   ],
   "source": [
    "res = smf.ols(formula = \"np.subtract(I, 0.01) ~ 0 + b0 + I.shift(1) \", data=df).fit()\n",
    "print(res.summary())"
   ]
  }
 ],
 "metadata": {
  "kernelspec": {
   "display_name": "Python 3 (ipykernel)",
   "language": "python",
   "name": "python3"
  },
  "language_info": {
   "codemirror_mode": {
    "name": "ipython",
    "version": 3
   },
   "file_extension": ".py",
   "mimetype": "text/x-python",
   "name": "python",
   "nbconvert_exporter": "python",
   "pygments_lexer": "ipython3",
   "version": "3.7.11"
  }
 },
 "nbformat": 4,
 "nbformat_minor": 5
}
